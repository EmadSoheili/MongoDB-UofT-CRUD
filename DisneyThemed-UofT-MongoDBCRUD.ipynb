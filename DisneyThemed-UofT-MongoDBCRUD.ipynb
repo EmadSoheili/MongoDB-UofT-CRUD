{
 "cells": [
  {
   "cell_type": "code",
   "execution_count": 1,
   "id": "7e71f74f",
   "metadata": {},
   "outputs": [],
   "source": [
    "from pymongo import MongoClient\n",
    "mongo = MongoClient(port=27017)"
   ]
  },
  {
   "cell_type": "code",
   "execution_count": 2,
   "id": "2e9bba33",
   "metadata": {},
   "outputs": [
    {
     "name": "stdout",
     "output_type": "stream",
     "text": [
      "['admin', 'config', 'local']\n"
     ]
    }
   ],
   "source": [
    "print(mongo.list_database_names())"
   ]
  },
  {
   "cell_type": "code",
   "execution_count": 3,
   "id": "ae343bc6",
   "metadata": {},
   "outputs": [
    {
     "name": "stdout",
     "output_type": "stream",
     "text": [
      "['admin', 'config', 'local']\n"
     ]
    }
   ],
   "source": [
    "my_first_db = mongo['my_db']\n",
    "print(mongo.list_database_names())"
   ]
  },
  {
   "cell_type": "code",
   "execution_count": 4,
   "id": "785d00a2",
   "metadata": {},
   "outputs": [
    {
     "data": {
      "text/plain": [
       "[]"
      ]
     },
     "execution_count": 4,
     "metadata": {},
     "output_type": "execute_result"
    }
   ],
   "source": [
    "my_first_collection = my_first_db['my_collection']\n",
    "my_first_db.list_collection_names()"
   ]
  },
  {
   "cell_type": "code",
   "execution_count": 5,
   "id": "ff2773ee",
   "metadata": {},
   "outputs": [
    {
     "data": {
      "text/plain": [
       "<pymongo.results.InsertOneResult at 0x7f9dd9a82ee0>"
      ]
     },
     "execution_count": 5,
     "metadata": {},
     "output_type": "execute_result"
    }
   ],
   "source": [
    "my_first_collection.insert_one({'name':'Mickey'})"
   ]
  },
  {
   "cell_type": "code",
   "execution_count": 6,
   "id": "b83fbdc8",
   "metadata": {},
   "outputs": [
    {
     "name": "stdout",
     "output_type": "stream",
     "text": [
      "['admin', 'config', 'local', 'my_db']\n",
      "['my_collection']\n"
     ]
    }
   ],
   "source": [
    "print(mongo.list_database_names())\n",
    "print(my_first_db.list_collection_names())"
   ]
  },
  {
   "cell_type": "code",
   "execution_count": 7,
   "id": "b8e4b66d",
   "metadata": {},
   "outputs": [
    {
     "data": {
      "text/plain": [
       "<pymongo.results.InsertOneResult at 0x7f9db825c940>"
      ]
     },
     "execution_count": 7,
     "metadata": {},
     "output_type": "execute_result"
    }
   ],
   "source": [
    "my_first_collection.insert_one({'name':'Minnie', 'age':'90'})"
   ]
  },
  {
   "cell_type": "code",
   "execution_count": 8,
   "id": "0d5d1922",
   "metadata": {},
   "outputs": [
    {
     "name": "stdout",
     "output_type": "stream",
     "text": [
      "{'_id': ObjectId('635e155625e24605393acefd'), 'name': 'Mickey'}\n",
      "{'_id': ObjectId('635e155625e24605393acefe'), 'name': 'Minnie', 'age': '90'}\n"
     ]
    }
   ],
   "source": [
    "results = my_first_collection.find()\n",
    "for i in results:\n",
    "    print(i)"
   ]
  },
  {
   "cell_type": "code",
   "execution_count": 9,
   "id": "893718bc",
   "metadata": {},
   "outputs": [
    {
     "data": {
      "text/plain": [
       "<pymongo.results.InsertOneResult at 0x7f9db825c610>"
      ]
     },
     "execution_count": 9,
     "metadata": {},
     "output_type": "execute_result"
    }
   ],
   "source": [
    "goofy = {'_id':3, 'name': 'Goofy', 'age': 87, 'species': 'dog'}\n",
    "my_first_collection.insert_one(goofy)"
   ]
  },
  {
   "cell_type": "code",
   "execution_count": 10,
   "id": "8a257e95",
   "metadata": {},
   "outputs": [
    {
     "name": "stdout",
     "output_type": "stream",
     "text": [
      "{'_id': ObjectId('635e155625e24605393acefd'), 'name': 'Mickey'}\n",
      "{'_id': ObjectId('635e155625e24605393acefe'), 'name': 'Minnie', 'age': '90'}\n",
      "{'_id': 3, 'name': 'Goofy', 'age': 87, 'species': 'dog'}\n"
     ]
    }
   ],
   "source": [
    "results = my_first_collection.find()\n",
    "for result in results:\n",
    "    print(result)"
   ]
  },
  {
   "cell_type": "code",
   "execution_count": 11,
   "id": "88964029",
   "metadata": {},
   "outputs": [
    {
     "name": "stdout",
     "output_type": "stream",
     "text": [
      "{'_id': ObjectId('635e155625e24605393acefd'), 'name': 'Mickey'}\n",
      "{'_id': ObjectId('635e155625e24605393acefe'), 'name': 'Minnie', 'age': '90'}\n",
      "{'_id': 3, 'name': 'Goofy', 'age': 87, 'species': 'dog'}\n",
      "{'_id': ObjectId('635e155625e24605393aceff'), 'name': 'Donald', 'species': 'duck'}\n",
      "{'_id': ObjectId('635e155625e24605393acf00'), 'name': 'Daisy', 'species': 'duck'}\n"
     ]
    }
   ],
   "source": [
    "animals = [{'name': 'Donald', 'species': 'duck'}, {'name': 'Daisy', 'species': 'duck'}]\n",
    "my_first_collection.insert_many(animals)\n",
    "\n",
    "results = my_first_collection.find()\n",
    "for result in results:\n",
    "    print(result)"
   ]
  },
  {
   "cell_type": "code",
   "execution_count": 12,
   "id": "496ff607",
   "metadata": {},
   "outputs": [
    {
     "name": "stdout",
     "output_type": "stream",
     "text": [
      "{'_id': ObjectId('635e155625e24605393aceff'), 'name': 'Donald', 'species': 'duck'}\n"
     ]
    }
   ],
   "source": [
    "query = {'name':'Donald'}\n",
    "results = my_first_collection.find(query)\n",
    "for i in results:\n",
    "    print(i)"
   ]
  },
  {
   "cell_type": "code",
   "execution_count": 13,
   "id": "a2f7eb59",
   "metadata": {},
   "outputs": [
    {
     "name": "stdout",
     "output_type": "stream",
     "text": [
      "{'_id': ObjectId('635e155625e24605393aceff'), 'name': 'Donald', 'species': 'duck'}\n",
      "{'_id': ObjectId('635e155625e24605393acf00'), 'name': 'Daisy', 'species': 'duck'}\n"
     ]
    }
   ],
   "source": [
    "query = {'species':'duck'}\n",
    "results = my_first_collection.find(query)\n",
    "for i in results:\n",
    "    print(i)"
   ]
  },
  {
   "cell_type": "code",
   "execution_count": 14,
   "id": "4f079437",
   "metadata": {},
   "outputs": [
    {
     "data": {
      "text/plain": [
       "[{'_id': 3, 'name': 'Goofy', 'age': 87, 'species': 'dog'}]"
      ]
     },
     "execution_count": 14,
     "metadata": {},
     "output_type": "execute_result"
    }
   ],
   "source": [
    "query = {'age':{'$gt':85}}\n",
    "results = my_first_collection.find(query)\n",
    "[i for i in results]"
   ]
  },
  {
   "cell_type": "code",
   "execution_count": 15,
   "id": "dfb327f5",
   "metadata": {},
   "outputs": [
    {
     "data": {
      "text/plain": [
       "[{'_id': ObjectId('635e155625e24605393acefd'), 'name': 'Mickey Mouse'},\n",
       " {'_id': ObjectId('635e155625e24605393acefe'), 'name': 'Minnie', 'age': '90'},\n",
       " {'_id': 3, 'name': 'Goofy', 'age': 87, 'species': 'dog'},\n",
       " {'_id': ObjectId('635e155625e24605393aceff'),\n",
       "  'name': 'Donald',\n",
       "  'species': 'duck'},\n",
       " {'_id': ObjectId('635e155625e24605393acf00'),\n",
       "  'name': 'Daisy',\n",
       "  'species': 'duck'}]"
      ]
     },
     "execution_count": 15,
     "metadata": {},
     "output_type": "execute_result"
    }
   ],
   "source": [
    "query = {'name':'Mickey'}\n",
    "update = {'$set':{'name':'Mickey Mouse'}}\n",
    "my_first_collection.update_one(query, update)\n",
    "[i for i in my_first_collection.find()]"
   ]
  },
  {
   "cell_type": "code",
   "execution_count": 16,
   "id": "f5807c66",
   "metadata": {},
   "outputs": [
    {
     "data": {
      "text/plain": [
       "[{'_id': ObjectId('635e155625e24605393acefd'), 'name': 'Mickey Mouse'},\n",
       " {'_id': ObjectId('635e155625e24605393acefe'),\n",
       "  'name': 'Minnie Mouse',\n",
       "  'age': '90'},\n",
       " {'_id': 3, 'name': 'Goofy', 'age': 87, 'species': 'dog'},\n",
       " {'_id': ObjectId('635e155625e24605393aceff'),\n",
       "  'name': 'Donald',\n",
       "  'species': 'duck'},\n",
       " {'_id': ObjectId('635e155625e24605393acf00'),\n",
       "  'name': 'Daisy',\n",
       "  'species': 'duck'}]"
      ]
     },
     "execution_count": 16,
     "metadata": {},
     "output_type": "execute_result"
    }
   ],
   "source": [
    "query = {'name':'Minnie'}\n",
    "update = {'$set':{'name':'Minnie Mouse'}}\n",
    "my_first_collection.update_one(query, update)\n",
    "[i for i in my_first_collection.find()]"
   ]
  },
  {
   "cell_type": "code",
   "execution_count": 17,
   "id": "253188a5",
   "metadata": {},
   "outputs": [
    {
     "data": {
      "text/plain": [
       "[{'_id': ObjectId('635e155625e24605393acefe'),\n",
       "  'name': 'Minnie Mouse',\n",
       "  'age': '90'},\n",
       " {'_id': 3, 'name': 'Goofy', 'age': 87, 'species': 'dog'},\n",
       " {'_id': ObjectId('635e155625e24605393aceff'),\n",
       "  'name': 'Donald',\n",
       "  'species': 'duck'},\n",
       " {'_id': ObjectId('635e155625e24605393acf00'),\n",
       "  'name': 'Daisy',\n",
       "  'species': 'duck'}]"
      ]
     },
     "execution_count": 17,
     "metadata": {},
     "output_type": "execute_result"
    }
   ],
   "source": [
    "query = {'name': 'Mickey Mouse'}\n",
    "my_first_collection.delete_one(query)\n",
    "[r for r in my_first_collection.find()]"
   ]
  }
 ],
 "metadata": {
  "kernelspec": {
   "display_name": "PythonData",
   "language": "python",
   "name": "pythondata"
  },
  "language_info": {
   "codemirror_mode": {
    "name": "ipython",
    "version": 3
   },
   "file_extension": ".py",
   "mimetype": "text/x-python",
   "name": "python",
   "nbconvert_exporter": "python",
   "pygments_lexer": "ipython3",
   "version": "3.9.4"
  }
 },
 "nbformat": 4,
 "nbformat_minor": 5
}
