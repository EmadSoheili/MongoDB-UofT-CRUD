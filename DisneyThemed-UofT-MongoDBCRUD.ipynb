{
 "cells": [
  {
   "cell_type": "code",
   "execution_count": 1,
   "id": "7e71f74f",
   "metadata": {},
   "outputs": [],
   "source": [
    "from pymongo import MongoClient\n",
    "mongo = MongoClient(port=27017)"
   ]
  },
  {
   "cell_type": "code",
   "execution_count": 2,
   "id": "2e9bba33",
   "metadata": {},
   "outputs": [
    {
     "name": "stdout",
     "output_type": "stream",
     "text": [
      "['admin', 'config', 'local']\n"
     ]
    }
   ],
   "source": [
    "print(mongo.list_database_names())"
   ]
  },
  {
   "cell_type": "code",
   "execution_count": 3,
   "id": "ae343bc6",
   "metadata": {},
   "outputs": [
    {
     "name": "stdout",
     "output_type": "stream",
     "text": [
      "['admin', 'config', 'local']\n"
     ]
    }
   ],
   "source": [
    "my_first_db = mongo['my_db']\n",
    "print(mongo.list_database_names())"
   ]
  },
  {
   "cell_type": "code",
   "execution_count": 4,
   "id": "91980602",
   "metadata": {},
   "outputs": [
    {
     "data": {
      "text/plain": [
       "[]"
      ]
     },
     "execution_count": 4,
     "metadata": {},
     "output_type": "execute_result"
    }
   ],
   "source": [
    "my_first_collection = my_first_db['my_collection']\n",
    "my_first_db.list_collection_names()"
   ]
  },
  {
   "cell_type": "code",
   "execution_count": 5,
   "id": "7cf2b80c",
   "metadata": {},
   "outputs": [
    {
     "data": {
      "text/plain": [
       "<pymongo.results.InsertOneResult at 0x7fd829a09d00>"
      ]
     },
     "execution_count": 5,
     "metadata": {},
     "output_type": "execute_result"
    }
   ],
   "source": [
    "my_first_collection.insert_one({'name':'Mickey'})"
   ]
  },
  {
   "cell_type": "code",
   "execution_count": 6,
   "id": "e3723191",
   "metadata": {},
   "outputs": [
    {
     "name": "stdout",
     "output_type": "stream",
     "text": [
      "['admin', 'config', 'local', 'my_db']\n",
      "['my_collection']\n"
     ]
    }
   ],
   "source": [
    "print(mongo.list_database_names())\n",
    "print(my_first_db.list_collection_names())"
   ]
  },
  {
   "cell_type": "code",
   "execution_count": 7,
   "id": "64890a9b",
   "metadata": {},
   "outputs": [
    {
     "data": {
      "text/plain": [
       "<pymongo.results.InsertOneResult at 0x7fd8082b0d30>"
      ]
     },
     "execution_count": 7,
     "metadata": {},
     "output_type": "execute_result"
    }
   ],
   "source": [
    "my_first_collection.insert_one({'name':'Minnie', 'age':'90'})"
   ]
  },
  {
   "cell_type": "code",
   "execution_count": 8,
   "id": "2ffa2738",
   "metadata": {},
   "outputs": [
    {
     "name": "stdout",
     "output_type": "stream",
     "text": [
      "{'_id': ObjectId('635e0d6e62b05653321c7c9d'), 'name': 'Mickey'}\n",
      "{'_id': ObjectId('635e0d6e62b05653321c7c9e'), 'name': 'Minnie', 'age': '90'}\n"
     ]
    }
   ],
   "source": [
    "results = my_first_collection.find()\n",
    "for i in results:\n",
    "    print(i)"
   ]
  },
  {
   "cell_type": "code",
   "execution_count": 9,
   "id": "349504c2",
   "metadata": {},
   "outputs": [
    {
     "data": {
      "text/plain": [
       "<pymongo.results.InsertOneResult at 0x7fd829a09d60>"
      ]
     },
     "execution_count": 9,
     "metadata": {},
     "output_type": "execute_result"
    }
   ],
   "source": [
    "goofy = {'_id':3, 'name': 'Goofy', 'age': 87, 'species': 'dog'}\n",
    "my_first_collection.insert_one(goofy)"
   ]
  },
  {
   "cell_type": "code",
   "execution_count": 10,
   "id": "a119e143",
   "metadata": {},
   "outputs": [
    {
     "name": "stdout",
     "output_type": "stream",
     "text": [
      "{'_id': ObjectId('635e0d6e62b05653321c7c9d'), 'name': 'Mickey'}\n",
      "{'_id': ObjectId('635e0d6e62b05653321c7c9e'), 'name': 'Minnie', 'age': '90'}\n",
      "{'_id': 3, 'name': 'Goofy', 'age': 87, 'species': 'dog'}\n"
     ]
    }
   ],
   "source": [
    "results = my_first_collection.find()\n",
    "for result in results:\n",
    "    print(result)"
   ]
  },
  {
   "cell_type": "code",
   "execution_count": 11,
   "id": "72a37e51",
   "metadata": {},
   "outputs": [
    {
     "name": "stdout",
     "output_type": "stream",
     "text": [
      "{'_id': ObjectId('635e0d6e62b05653321c7c9d'), 'name': 'Mickey'}\n",
      "{'_id': ObjectId('635e0d6e62b05653321c7c9e'), 'name': 'Minnie', 'age': '90'}\n",
      "{'_id': 3, 'name': 'Goofy', 'age': 87, 'species': 'dog'}\n",
      "{'_id': ObjectId('635e0d6e62b05653321c7c9f'), 'name': 'Donald', 'species': 'duck'}\n",
      "{'_id': ObjectId('635e0d6e62b05653321c7ca0'), 'name': 'Daisy', 'species': 'duck'}\n"
     ]
    }
   ],
   "source": [
    "animals = [{'name': 'Donald', 'species': 'duck'}, {'name': 'Daisy', 'species': 'duck'}]\n",
    "my_first_collection.insert_many(animals)\n",
    "\n",
    "results = my_first_collection.find()\n",
    "for result in results:\n",
    "    print(result)"
   ]
  },
  {
   "cell_type": "code",
   "execution_count": 12,
   "id": "24758d2a",
   "metadata": {},
   "outputs": [
    {
     "name": "stdout",
     "output_type": "stream",
     "text": [
      "{'_id': ObjectId('635e0d6e62b05653321c7c9f'), 'name': 'Donald', 'species': 'duck'}\n"
     ]
    }
   ],
   "source": [
    "query = {'name':'Donald'}\n",
    "results = my_first_collection.find(query)\n",
    "for i in results:\n",
    "    print(i)"
   ]
  },
  {
   "cell_type": "code",
   "execution_count": 13,
   "id": "34a70b84",
   "metadata": {},
   "outputs": [
    {
     "name": "stdout",
     "output_type": "stream",
     "text": [
      "{'_id': ObjectId('635e0d6e62b05653321c7c9f'), 'name': 'Donald', 'species': 'duck'}\n",
      "{'_id': ObjectId('635e0d6e62b05653321c7ca0'), 'name': 'Daisy', 'species': 'duck'}\n"
     ]
    }
   ],
   "source": [
    "query = {'species':'duck'}\n",
    "results = my_first_collection.find(query)\n",
    "for i in results:\n",
    "    print(i)"
   ]
  },
  {
   "cell_type": "code",
   "execution_count": 14,
   "id": "6ef25502",
   "metadata": {},
   "outputs": [
    {
     "data": {
      "text/plain": [
       "[{'_id': 3, 'name': 'Goofy', 'age': 87, 'species': 'dog'}]"
      ]
     },
     "execution_count": 14,
     "metadata": {},
     "output_type": "execute_result"
    }
   ],
   "source": [
    "query = {'age':{'$gt':85}}\n",
    "results = my_first_collection.find(query)\n",
    "[i for i in results]"
   ]
  },
  {
   "cell_type": "code",
   "execution_count": null,
   "id": "f342fdd8",
   "metadata": {},
   "outputs": [],
   "source": []
  }
 ],
 "metadata": {
  "kernelspec": {
   "display_name": "PythonData",
   "language": "python",
   "name": "pythondata"
  },
  "language_info": {
   "codemirror_mode": {
    "name": "ipython",
    "version": 3
   },
   "file_extension": ".py",
   "mimetype": "text/x-python",
   "name": "python",
   "nbconvert_exporter": "python",
   "pygments_lexer": "ipython3",
   "version": "3.9.4"
  }
 },
 "nbformat": 4,
 "nbformat_minor": 5
}
